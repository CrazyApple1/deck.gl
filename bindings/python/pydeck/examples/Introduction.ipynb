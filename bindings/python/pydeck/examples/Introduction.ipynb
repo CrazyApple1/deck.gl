{
 "cells": [
  {
   "cell_type": "code",
   "execution_count": 1,
   "metadata": {},
   "outputs": [],
   "source": [
    "import pydeck as pdk"
   ]
  },
  {
   "cell_type": "code",
   "execution_count": 2,
   "metadata": {},
   "outputs": [],
   "source": [
    "# Example from https://deck.gl/json\n",
    "layer = pdk.Layer(\n",
    "    'HexagonLayer',\n",
    "    'heatmap',\n",
    "    'https://raw.githubusercontent.com/uber-common/deck.gl-data/master/examples/3d-heatmap/heatmap-data.csv',\n",
    "    elevation_scale=50,\n",
    "    elevation_range=[0, 3000],\n",
    "    extruded=True,\n",
    "    coverage=1)\n",
    "lights = pdk.LightSettings(\n",
    "    lights_position=[\n",
    "        -0.144528,\n",
    "        49.739968,\n",
    "        8000,\n",
    "        -3.807751,\n",
    "        54.104682,\n",
    "        10000],\n",
    "    ambient_ratio=0.7,\n",
    "    diffuse_ratio=0.6)\n",
    "layer.light_settings = lights\n",
    "view_state = pdk.ViewState(\n",
    "    longitude=-1.415,\n",
    "    latitude=52.2323,\n",
    "    zoom=6.6,\n",
    "    min_zoom=5,\n",
    "    max_zoom=15,\n",
    "    pitch=40.5,\n",
    "    bearing=-27.396)\n",
    "view = pdk.View('MapView', True)\n",
    "r = pdk.Deck(layers=[layer], initial_view_state=view_state, views=[view])"
   ]
  },
  {
   "cell_type": "code",
   "execution_count": 3,
   "metadata": {},
   "outputs": [
    {
     "data": {
      "text/plain": [
       "{\"initialViewState\": {\"bearing\": -27.396, \"latitude\": 52.2323, \"longitude\": -1.415, \"maxZoom\": 15, \"minZoom\": 5, \"pitch\": 40.5, \"zoom\": 6.6}, \"layers\": [{\"colorRange\": [[1, 152, 189], [73, 227, 206], [216, 254, 181], [254, 237, 177], [254, 173, 84], [209, 55, 78]], \"coverage\": 1, \"data\": \"https://raw.githubusercontent.com/uber-common/deck.gl-data/master/examples/3d-heatmap/heatmap-data.csv\", \"elevationRange\": [0, 3000], \"elevationScale\": 50, \"extruded\": true, \"getPosition\": \"-\", \"id\": \"heatmap\", \"lightSettings\": {\"ambientRatio\": 0.7, \"diffuseRatio\": 0.6, \"lightsPosition\": [-0.144528, 49.739968, 8000, -3.807751, 54.104682, 10000], \"numberOfLights\": 2}, \"opacity\": 1, \"radius\": 1000, \"type\": \"HexagonLayer\", \"upperPercentile\": 100}], \"mapStyle\": \"mapbox://styles/mapbox/dark-v9\", \"views\": [{\"controller\": true, \"type\": \"MapView\"}]}"
      ]
     },
     "execution_count": 3,
     "metadata": {},
     "output_type": "execute_result"
    }
   ],
   "source": [
    "r"
   ]
  },
  {
   "cell_type": "code",
   "execution_count": 3,
   "metadata": {
    "scrolled": false
   },
   "outputs": [
    {
     "data": {
      "application/vnd.jupyter.widget-view+json": {
       "model_id": "8887e121db7d467db1adff20af0ef7b1",
       "version_major": 2,
       "version_minor": 0
      },
      "text/plain": [
       "DeckGLWidget()"
      ]
     },
     "metadata": {},
     "output_type": "display_data"
    }
   ],
   "source": [
    "w = pdk.DeckGLWidget()\n",
    "w"
   ]
  },
  {
   "cell_type": "code",
   "execution_count": 4,
   "metadata": {},
   "outputs": [],
   "source": [
    "w.json_input = str(r)"
   ]
  }
 ],
 "metadata": {
  "kernelspec": {
   "display_name": "Python 2",
   "language": "python",
   "name": "python2"
  },
  "language_info": {
   "codemirror_mode": {
    "name": "ipython",
    "version": 2
   },
   "file_extension": ".py",
   "mimetype": "text/x-python",
   "name": "python",
   "nbconvert_exporter": "python",
   "pygments_lexer": "ipython2",
   "version": "2.7.16"
  }
 },
 "nbformat": 4,
 "nbformat_minor": 2
}
