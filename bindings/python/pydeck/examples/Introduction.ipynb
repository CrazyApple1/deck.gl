{
 "cells": [
  {
   "cell_type": "code",
   "execution_count": 2,
   "metadata": {},
   "outputs": [],
   "source": [
    "import pydeck as pdk"
   ]
  },
  {
   "cell_type": "markdown",
   "metadata": {},
   "source": [
    "# A Brief Intro to pydeck\n",
    "\n",
    "The pydeck library uses deck.gl's JSON API to create deck.gl layers in Python.\n",
    "\n",
    "Deck.gl usually assumes a layer, an initial viewpoint, and a kind of map orientation are specified by the user. Here we set the kind of layer we'd like (`HexagonLayer`), a name for that layer (`heatmap`), and a few other parameters (e.g., `elevation_scale`, `elevation_range`) taken from the deck.gl [HexagonLayer](https://github.com/uber/deck.gl/blob/master/docs/layers/hexagon-layer.md) documentation.\n",
    "\n",
    "We also specify light settings using `pdk.LightSettings` to get light angles relative to the HexagonLayer we'll create, and a `view_state` for our initial viewpoint. The `pdk.View` object in this case is set to a default [MapView](https://github.com/uber/deck.gl/blob/master/docs/api-reference/map-view.md), which behaves like many familiar web map interfaces. Finally, we combine all those object into one for plotting as a `pdk.Deck` object.\n",
    "\n",
    "`r.show()` renders the plot."
   ]
  },
  {
   "cell_type": "code",
   "execution_count": 3,
   "metadata": {},
   "outputs": [],
   "source": [
    "# Example from https://deck.gl/json\n",
    "layer = pdk.Layer(\n",
    "    'HexagonLayer',\n",
    "    'https://raw.githubusercontent.com/uber-common/deck.gl-data/master/examples/3d-heatmap/heatmap-data.csv',\n",
    "    elevation_scale=50,\n",
    "    elevation_range=[0, 3000],\n",
    "    extruded=True,\n",
    "    coverage=1)\n",
    "lights = pdk.LightSettings(\n",
    "    lights_position=[\n",
    "        -0.144528,\n",
    "        49.739968,\n",
    "        8000,\n",
    "        -3.807751,\n",
    "        54.104682,\n",
    "        10000],\n",
    "    ambient_ratio=0.7,\n",
    "    diffuse_ratio=0.6)\n",
    "layer.light_settings = lights\n",
    "view_state = pdk.ViewState(\n",
    "    longitude=-1.415,\n",
    "    latitude=52.2323,\n",
    "    zoom=6.6,\n",
    "    min_zoom=5,\n",
    "    max_zoom=15,\n",
    "    pitch=40.5,\n",
    "    bearing=-27.396)\n",
    "view = pdk.View('MapView', True)\n",
    "r = pdk.Deck(layers=[layer], initial_view_state=view_state, views=[view])"
   ]
  },
  {
   "cell_type": "code",
   "execution_count": 4,
   "metadata": {},
   "outputs": [
    {
     "data": {
      "application/vnd.jupyter.widget-view+json": {
       "model_id": "81bd961750f54ddbbda078d1050b1f82",
       "version_major": 2,
       "version_minor": 0
      },
      "text/plain": [
       "RGVja0dMV2lkZ2V0KGpzb25faW5wdXQ9dSd7ImluaXRpYWxWaWV3U3RhdGUiOiB7ImJlYXJpbmciOiAtMjcuMzk2LCAibGF0aXR1ZGUiOiA1Mi4yMzIzLCAibG9uZ2l0dWRlIjogLTEuNDE1LCDigKY=\n"
      ]
     },
     "metadata": {},
     "output_type": "display_data"
    }
   ],
   "source": [
    "r.show()"
   ]
  },
  {
   "cell_type": "markdown",
   "metadata": {},
   "source": [
    "## PointCloudLayer demo\n",
    "\n",
    "We can also plot objects in space. For example, here are three functions plotted in three dimensions:"
   ]
  },
  {
   "cell_type": "code",
   "execution_count": 5,
   "metadata": {},
   "outputs": [
    {
     "data": {
      "text/html": [
       "<div>\n",
       "<style scoped>\n",
       "    .dataframe tbody tr th:only-of-type {\n",
       "        vertical-align: middle;\n",
       "    }\n",
       "\n",
       "    .dataframe tbody tr th {\n",
       "        vertical-align: top;\n",
       "    }\n",
       "\n",
       "    .dataframe thead th {\n",
       "        text-align: right;\n",
       "    }\n",
       "</style>\n",
       "<table border=\"1\" class=\"dataframe\">\n",
       "  <thead>\n",
       "    <tr style=\"text-align: right;\">\n",
       "      <th></th>\n",
       "      <th>coordinates</th>\n",
       "      <th>color</th>\n",
       "    </tr>\n",
       "  </thead>\n",
       "  <tbody>\n",
       "    <tr>\n",
       "      <th>0</th>\n",
       "      <td>[-10000, 0.305614388888, -1.0]</td>\n",
       "      <td>[255, 0, 0]</td>\n",
       "    </tr>\n",
       "    <tr>\n",
       "      <th>1</th>\n",
       "      <td>[-9999, -0.636086956396, -1.0]</td>\n",
       "      <td>[255, 0, 0]</td>\n",
       "    </tr>\n",
       "    <tr>\n",
       "      <th>2</th>\n",
       "      <td>[-9998, -0.992972887435, -1.0]</td>\n",
       "      <td>[255, 0, 0]</td>\n",
       "    </tr>\n",
       "    <tr>\n",
       "      <th>3</th>\n",
       "      <td>[-9997, -0.436924125095, -1.0]</td>\n",
       "      <td>[255, 0, 0]</td>\n",
       "    </tr>\n",
       "    <tr>\n",
       "      <th>4</th>\n",
       "      <td>[-9996, 0.520830662878, -1.0]</td>\n",
       "      <td>[255, 0, 0]</td>\n",
       "    </tr>\n",
       "  </tbody>\n",
       "</table>\n",
       "</div>"
      ],
      "text/plain": [
       "                      coordinates        color\n",
       "0  [-10000, 0.305614388888, -1.0]  [255, 0, 0]\n",
       "1  [-9999, -0.636086956396, -1.0]  [255, 0, 0]\n",
       "2  [-9998, -0.992972887435, -1.0]  [255, 0, 0]\n",
       "3  [-9997, -0.436924125095, -1.0]  [255, 0, 0]\n",
       "4   [-9996, 0.520830662878, -1.0]  [255, 0, 0]"
      ]
     },
     "execution_count": 5,
     "metadata": {},
     "output_type": "execute_result"
    }
   ],
   "source": [
    "import math\n",
    "import pandas as pd\n",
    "RED, BLUE, GREEN = [255,0,0], [0, 0, 255], [0, 255, 0]\n",
    "\n",
    "DOMAIN = range(-10000, 10000)\n",
    "\n",
    "input_table = [[[x, math.sin(x), math.tanh(x)], RED] for x in DOMAIN] +\\\n",
    "[[[x, math.sin(x) * 5, math.sin(x) * 10000000], BLUE] for x in DOMAIN] + \\\n",
    "[[[x, math.sin(x) * 10, math.sin(x) * 100000], GREEN] for x in DOMAIN]\n",
    "\n",
    "df = pd.DataFrame(input_table, columns=['coordinates', 'color'])\n",
    "df.head()"
   ]
  },
  {
   "cell_type": "code",
   "execution_count": 6,
   "metadata": {},
   "outputs": [
    {
     "data": {
      "application/vnd.jupyter.widget-view+json": {
       "model_id": "0dccb180ec8c45609ae1f1cb4396cc03",
       "version_major": 2,
       "version_minor": 0
      },
      "text/plain": [
       "RGVja0dMV2lkZ2V0KGpzb25faW5wdXQ9dSd7ImluaXRpYWxWaWV3U3RhdGUiOiB7ImJlYXJpbmciOiA1MCwgImxhdGl0dWRlIjogMC4wLCAibG9uZ2l0dWRlIjogMC4wLCAibWF4Wm9vbSI6IDLigKY=\n"
      ]
     },
     "metadata": {},
     "output_type": "display_data"
    }
   ],
   "source": [
    "df_dict = df.to_dict(orient='records') # Convert to a Python dictionary\n",
    "layer = pdk.Layer(\n",
    "    'PointCloudLayer',\n",
    "    data=df_dict,\n",
    "    get_position='coordinates',\n",
    "    opacity=0.5,\n",
    "    get_radius=1000,\n",
    "    get_color='color')\n",
    "view_state = pdk.ViewState(zoom=1, pitch=40, bearing=50)\n",
    "view = pdk.View('MapView', True)\n",
    "b = pdk.Deck(layers=[layer], initial_view_state=view_state, views=[view])\n",
    "b.map_style = None\n",
    "b.show()"
   ]
  },
  {
   "cell_type": "code",
   "execution_count": 6,
   "metadata": {},
   "outputs": [
    {
     "data": {
      "application/vnd.jupyter.widget-view+json": {
       "model_id": "cd35ae7d00d64c2a9b023b8457dda640",
       "version_major": 2,
       "version_minor": 0
      },
      "text/plain": [
       "RGVja0dMV2lkZ2V0KGpzb25faW5wdXQ9dSd7ImluaXRpYWxWaWV3U3RhdGUiOiB7ImJlYXJpbmciOiA1MCwgImxhdGl0dWRlIjogMC4wLCAibG9uZ2l0dWRlIjogMC4wLCAibWF4Wm9vbSI6IDLigKY=\n"
      ]
     },
     "metadata": {},
     "output_type": "display_data"
    }
   ],
   "source": [
    "RAW_LIDAR_POINTS = 'https://raw.githubusercontent.com/ajduberstein/oakland_point_cloud/master/lidar_chunks_1.csv'\n",
    "\n",
    "layer = pdk.Layer(\n",
    "    'PointCloudLayer',\n",
    "    data=RAW_LIDAR_POINTS,\n",
    "    get_position='coordinates',\n",
    "    opacity=0.5,\n",
    "    get_radius=1000,\n",
    "    get_color='color')\n",
    "view_state = pdk.ViewState(zoom=1, pitch=40, bearing=50)\n",
    "view = pdk.View('MapView', True)\n",
    "b = pdk.Deck(layers=[layer], initial_view_state=view_state, views=[view])\n",
    "b.map_style = None\n",
    "b.show()"
   ]
  },
  {
   "cell_type": "code",
   "execution_count": 8,
   "metadata": {},
   "outputs": [
    {
     "name": "stderr",
     "output_type": "stream",
     "text": [
      "UsageError: Line magic function `%r` not found.\n"
     ]
    }
   ],
   "source": []
  }
 ],
 "metadata": {
  "kernelspec": {
   "display_name": "Python 2",
   "language": "python",
   "name": "python2"
  },
  "language_info": {
   "codemirror_mode": {
    "name": "ipython",
    "version": 2
   },
   "file_extension": ".py",
   "mimetype": "text/x-python",
   "name": "python",
   "nbconvert_exporter": "python",
   "pygments_lexer": "ipython2",
   "version": "2.7.16"
  }
 },
 "nbformat": 4,
 "nbformat_minor": 2
}
