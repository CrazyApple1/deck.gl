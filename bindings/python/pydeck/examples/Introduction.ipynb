{
 "cells": [
  {
   "cell_type": "code",
   "execution_count": 1,
   "metadata": {},
   "outputs": [],
   "source": [
    "import pydeck as pdk"
   ]
  },
  {
   "cell_type": "markdown",
   "metadata": {},
   "source": [
    "# A Brief Intro to pydeck\n",
    "\n",
    "The pydeck library uses deck.gl's JSON API to create deck.gl layers in Python.\n",
    "\n",
    "Deck.gl usually assumes a layer, an initial viewpoint, and a kind of map orientation are specified by the user. Here we set the kind of layer we'd like (`HexagonLayer`), a name for that layer (`heatmap`), and a few other parameters (e.g., `elevation_scale`, `elevation_range`) taken from the deck.gl [HexagonLayer](https://github.com/uber/deck.gl/blob/master/docs/layers/hexagon-layer.md) documentation.\n",
    "\n",
    "We also specify light settings using `pdk.LightSettings` to get light angles relative to the HexagonLayer we'll create, and a `view_state` for our initial viewpoint. The `pdk.View` object in this case is set to a default [MapView](https://github.com/uber/deck.gl/blob/master/docs/api-reference/map-view.md), which behaves like many familiar web map interfaces. Finally, we combine all those object into one for plotting as a `pdk.Deck` object.\n",
    "\n",
    "`r.show()` renders the plot."
   ]
  },
  {
   "cell_type": "code",
   "execution_count": 22,
   "metadata": {},
   "outputs": [],
   "source": [
    "# Example from https://deck.gl/json\n",
    "layer = pdk.Layer(\n",
    "    'HexagonLayer',\n",
    "    'https://raw.githubusercontent.com/uber-common/deck.gl-data/master/examples/3d-heatmap/heatmap-data.csv',\n",
    "    elevation_scale=50,\n",
    "    elevation_range=[0, 3000],\n",
    "    extruded=True,\n",
    "    coverage=1)\n",
    "lights = pdk.LightSettings(\n",
    "    lights_position=[\n",
    "        -0.144528,\n",
    "        49.739968,\n",
    "        8000,\n",
    "        -3.807751,\n",
    "        54.104682,\n",
    "        10000],\n",
    "    ambient_ratio=0.7,\n",
    "    diffuse_ratio=0.6)\n",
    "layer.light_settings = lights\n",
    "view_state = pdk.ViewState(\n",
    "    longitude=-1.415,\n",
    "    latitude=52.2323,\n",
    "    zoom=6.6,\n",
    "    min_zoom=5,\n",
    "    max_zoom=15,\n",
    "    pitch=40.5,\n",
    "    bearing=-27.396)\n",
    "view = pdk.View('MapView', True)\n",
    "r = pdk.Deck(layers=[layer], initial_view_state=view_state, views=[view])"
   ]
  },
  {
   "cell_type": "code",
   "execution_count": 23,
   "metadata": {},
   "outputs": [
    {
     "data": {
      "application/vnd.jupyter.widget-view+json": {
       "model_id": "f4b6f8a253c24a5699e5cb9a4c8fd991",
       "version_major": 2,
       "version_minor": 0
      },
      "text/plain": [
       "RGVja0dMV2lkZ2V0KGpzb25faW5wdXQ9dSd7ImluaXRpYWxWaWV3U3RhdGUiOiB7ImJlYXJpbmciOiAtMjcuMzk2LCAibGF0aXR1ZGUiOiA1Mi4yMzIzLCAibG9uZ2l0dWRlIjogLTEuNDE1LCDigKY=\n"
      ]
     },
     "metadata": {},
     "output_type": "display_data"
    }
   ],
   "source": [
    "r.show()"
   ]
  },
  {
   "cell_type": "code",
   "execution_count": 34,
   "metadata": {},
   "outputs": [
    {
     "data": {
      "application/vnd.jupyter.widget-view+json": {
       "model_id": "675a3198a02a47d0912c79e54b06c7b0",
       "version_major": 2,
       "version_minor": 0
      },
      "text/plain": [
       "RGVja0dMV2lkZ2V0KGpzb25faW5wdXQ9dSd7ImluaXRpYWxWaWV3U3RhdGUiOiB7ImJlYXJpbmciOiAwLCAibGF0aXR1ZGUiOiAwLjAsICJsb25naXR1ZGUiOiAwLjAsICJtYXhab29tIjogMjDigKY=\n"
      ]
     },
     "metadata": {},
     "output_type": "display_data"
    }
   ],
   "source": [
    "# Example from https://deck.gl/json\n",
    "import pandas as pd\n",
    "df = pd.DataFrame(\n",
    "    {'position': [\n",
    "        [1, 3],\n",
    "        [1, 4],\n",
    "        [1, 5]\n",
    "    ]})\n",
    "df_dict = df.to_dict(orient='records')\n",
    "layer = pdk.Layer(\n",
    "    'ScatterplotLayer',\n",
    "    data=df_dict,\n",
    "    get_position='positition',\n",
    "    get_radius=100000,\n",
    "    get_color=[255, 155, 0])\n",
    "view_state = pdk.ViewState()\n",
    "b = pdk.Deck(layers=[layer], initial_view_state=view_state)\n",
    "b.show()"
   ]
  },
  {
   "cell_type": "code",
   "execution_count": 37,
   "metadata": {},
   "outputs": [
    {
     "data": {
      "text/plain": [
       "{\"initialViewState\": {\"bearing\": 0, \"latitude\": 0.0, \"longitude\": 0.0, \"maxZoom\": 20, \"minZoom\": 1, \"pitch\": 0, \"zoom\": 10}, \"layers\": [{\"data\": [{\"position\": [1, 3]}, {\"position\": [1, 4]}, {\"position\": [1, 5]}], \"getPosition\": \"positition\", \"getRadius\": 100000, \"id\": \"3d56e844-a82a-4e22-96ff-764e4eb796d2\", \"opacity\": 1, \"type\": \"ScatterplotLayer\"}], \"mapStyle\": \"mapbox://styles/mapbox/dark-v9\", \"views\": [{\"controller\": true, \"type\": \"MapView\"}]}"
      ]
     },
     "execution_count": 37,
     "metadata": {},
     "output_type": "execute_result"
    }
   ],
   "source": [
    "b"
   ]
  }
 ],
 "metadata": {
  "kernelspec": {
   "display_name": "Python 2",
   "language": "python",
   "name": "python2"
  },
  "language_info": {
   "codemirror_mode": {
    "name": "ipython",
    "version": 2
   },
   "file_extension": ".py",
   "mimetype": "text/x-python",
   "name": "python",
   "nbconvert_exporter": "python",
   "pygments_lexer": "ipython2",
   "version": "2.7.16"
  }
 },
 "nbformat": 4,
 "nbformat_minor": 2
}
